{
 "cells": [
  {
   "cell_type": "markdown",
   "metadata": {
    "pycharm": {
     "name": "#%% md\n"
    }
   },
   "source": "# This is a note about our Demo (MVP)(2022)"
  },
  {
   "cell_type": "markdown",
   "metadata": {
    "pycharm": {
     "name": "#%% md\n"
    }
   },
   "source": [
    "## Who we are and what we do:\n",
    "\n",
    "Our team aims to deal with the problems of the real estate field. \\\n",
    "Our three-person team consists of:\\\n",
    "\\\n",
    "Tabassom Entezami Lahijani (Python, C++, Docker & Business) \\\n",
    "Mohammad Hosein Najafi (Python, Android & DevOps)\\\n",
    "Soodeh Mahdian (UI/UX & Marketing)\n",
    "\n",
    "We decided to address the problems of low environmental awareness before property visits. \\\n",
    "According to our conversations and the review of a sample of people close to us (37 people), and in order to reduce the cost of time and storage space, the best solution is the 360 panorama, which has the same result as the video for people to persuade them to buy a house.\n",
    "Note : nothing other than tech is included here.  \n"
   ]
  },
  {
   "cell_type": "markdown",
   "metadata": {
    "pycharm": {
     "name": "#%% md\n"
    }
   },
   "source": [
    "### To test our platform, Go to 'tour_processor', read about it and follow the instructions!\n",
    "#### Important Note: Our work is not completed, but the description is here.\n",
    "#### During this time, tests have been done. Those tests have not been included in the code, but their explanations are given in this file."
   ]
  },
  {
   "cell_type": "markdown",
   "metadata": {
    "pycharm": {
     "name": "#%% md\n"
    }
   },
   "source": [
    "##### Why Nameko\n",
    "    Nameko enables us to build a service that can respond to RPC messages, dispatch events on certain actions, and listen to events from other services. It could also have HTTP interfaces for clients that can’t speak AMQP/\n",
    "    Nameko is designed to help us build systems using microservices and scale from a single instance of a single service, to a cluster with many instances of our different service\n",
    "    \n",
    "\n",
    "Our services consist of these microservices:\n",
    "- Image processor\n",
    "- Image storage\n",
    "- Information verification and access verification service\n",
    "- Image renderer\n",
    "- Shared library\n",
    "- And more services if necessary.\n",
    "\n",
    "Each service will have a communication section (with the gateway), confirmation of requests and outputs, general logic, models, repository and more if needed."
   ]
  },
  {
   "cell_type": "markdown",
   "metadata": {
    "pycharm": {
     "name": "#%% md\n"
    }
   },
   "source": [
    "## Services"
   ]
  },
  {
   "cell_type": "markdown",
   "metadata": {
    "pycharm": {
     "name": "#%% md\n"
    }
   },
   "source": [
    "##### What is 'tour_gateway'\n",
    "\n",
    "    Exactly as its name suggests, Gateway is the entrypoint to publish our microservices to the world and communicate with our different services.\n",
    "    We are currently not utilizing the gateway service to actually render the panorama photos and it is not used functionally for now."
   ]
  },
  {
   "cell_type": "markdown",
   "metadata": {
    "pycharm": {
     "name": "#%% md\n"
    }
   },
   "source": [
    "#### What is 'tour_shared'\n",
    "\n",
    "    This service collects the common codes of the services in one place to avoid rewriting the codes.\n",
    "    These codes include error management, common utils, etc."
   ]
  },
  {
   "cell_type": "markdown",
   "metadata": {
    "pycharm": {
     "name": "#%% md\n"
    }
   },
   "source": [
    "##### What is 'tour_auth'\n",
    "\n",
    "    This service is not functional now, but it is going to help us to ensure proper access to information in the future."
   ]
  },
  {
   "cell_type": "markdown",
   "metadata": {
    "pycharm": {
     "name": "#%% md\n"
    }
   },
   "source": [
    "##### Where do we want to keep photos\n",
    "\n",
    "We are going to use `minio` to store files, an implementation of the S3 protocol.\n",
    "Other structured data will be stored in our `postgresql` database."
   ]
  },
  {
   "cell_type": "markdown",
   "metadata": {
    "pycharm": {
     "name": "#%% md\n"
    }
   },
   "source": [
    "### Why is 'tour_processor' *important*\n",
    "\n",
    "    Our most important service, which tries properly process the images and produce an output panaroma photo.\n",
    "\n",
    "Our main focus during this development was this service and its components:\n",
    "\n",
    "#### Convertor:\n",
    "    utils:\n",
    "        It contains common codes of the Panorama library section like: get time for each part\n",
    "    libpano:\n",
    "        panorama library or libpano is a place to make our 360 panarama\n",
    " \n"
   ]
  },
  {
   "cell_type": "markdown",
   "metadata": {
    "pycharm": {
     "name": "#%% md\n"
    }
   },
   "source": [
    "### About libpano:"
   ]
  },
  {
   "cell_type": "markdown",
   "metadata": {
    "pycharm": {
     "name": "#%% md\n"
    }
   },
   "source": [
    "###### Steps:\n",
    "- Reading images\n",
    "- Detecting features\n",
    "- Matching features\n",
    "- Finding Homographies\n",
    "- Warping images\n",
    "- Compensating camera exposure\n",
    "- Finding seams\n",
    "- Blending image frames into one panorama\n"
   ]
  }
 ],
 "metadata": {
  "kernelspec": {
   "display_name": "Python 3 (ipykernel)",
   "language": "python",
   "name": "python3"
  },
  "language_info": {
   "codemirror_mode": {
    "name": "ipython",
    "version": 3
   },
   "file_extension": ".py",
   "mimetype": "text/x-python",
   "name": "python",
   "nbconvert_exporter": "python",
   "pygments_lexer": "ipython3",
   "version": "3.10.6"
  }
 },
 "nbformat": 4,
 "nbformat_minor": 1
}
